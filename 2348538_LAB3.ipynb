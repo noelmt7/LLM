{
 "cells": [
  {
   "cell_type": "code",
   "execution_count": 1,
   "metadata": {},
   "outputs": [
    {
     "name": "stdout",
     "output_type": "stream",
     "text": [
      "Welcome to the Story Generator chatbot! Type 'exit' to end the conversation.\n",
      "Story: Here's a story based on the prompt:\n",
      "\n",
      "**The Unforgettable Night**\n",
      "\n",
      "Max had always dreamed of studying abroad and pursuing a degree in International Business. When he clinched a scholarship to Harvard University, he couldn't believe his luck. At 19, he was about to embark on an experience of a lifetime.\n",
      "\n",
      "Freshmen week was a whirlwind of orientation, icebreakers, and chaos. Max sulked about missing his family and friends back home. But as he navigated the medieval-style building to his dormitory, he noticed flashes of excitement in his neighbors' faces. He was joining a community of high-caliber students from across the globe. Suddenly, he felt a rush of elation.\n",
      "\n",
      "Each day, max threw himself into his coursework, club certifications, and late-night card games. A particular fire erupted within him when confronted with an international business case study on emerging economies. Solving complex problems became an addiction.\n",
      "\n",
      "After two semesters, Max knew that his secret was to maintain an inclusive digital portfolio, highlighting successes from class group projects to intramural soccer matches. He found an answer on academic mentors-USA (AMA) for guidance; no-cost mentorship with senior industry professionals abroad flourished. Team BIZ-Trove and sponsors, USAISRE (trade and investment partner for North American entities).\n",
      "\n",
      "Rushing around library in last trimester before finals. Stare at the results for my 3 entries and an unknown calm took full control of mind\n",
      "\n",
      "A few weeks later, by pure virtue, following several months this morning, May was receiving invitation. Attended academic gala evening . They couldnʼt reveal winning price for anyone, hoping that news did follow afterwards about my.\n",
      "\n",
      "His first event unfolded much like countless other Harvard bashes-hashed champagne and student-produced artwork dangling within translucent fog-choked hallways lit by chandeliers... An honored lady empahtically expressed its honor in nominating tonight' ️s the `outstanding fres`\n",
      "\n",
      "What followed in May was not expected. When asked what motivates you; he emphasized, , I don of each activity what's about is understanding that someone may have as the motivation I have that opportunity also let of me. There within one my key takeaways here. Never give up or think something only you; see things as I.\n",
      "\n",
      "Max glowed, momentarily seized of himself, as over 200 students, executives or academics could not help thinking its next thought; we here but remember each one those what what is from not long and can a journey end from him.\n",
      "Goodbye!\n"
     ]
    }
   ],
   "source": [
    "import os\n",
    "from groq import Groq\n",
    "\n",
    "api_key = \"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\"\n",
    "client = Groq(api_key=api_key)\n",
    "\n",
    "\n",
    "def generate_story(client, user_prompt):\n",
    "    story_completion = client.chat.completions.create(\n",
    "        messages=[\n",
    "            {\n",
    "                \"role\": \"user\",\n",
    "                \"content\": f\"Generate a story based on the following prompt: {user_prompt}\",\n",
    "            }\n",
    "        ],\n",
    "        model=\"llama3-8b-8192\", \n",
    "        temperature=1.5, #increased temp for better creativity\n",
    "        max_tokens=2048,\n",
    "        top_p=1,\n",
    "        stop=None,\n",
    "    )\n",
    "    return story_completion.choices[0].message.content\n",
    "\n",
    "\n",
    "def chatbot():\n",
    "    print(\"Welcome to the Story Generator chatbot! Type 'exit' to end the conversation.\")\n",
    "    while True:\n",
    "        user_prompt = input(\"Enter a story prompt: \")\n",
    "        if user_prompt.lower() == 'exit':\n",
    "            print(\"Goodbye!\")\n",
    "            break\n",
    "        story = generate_story(client, user_prompt)\n",
    "        print(\"Story:\", story)\n",
    "\n",
    "if __name__ == \"__main__\":\n",
    "    chatbot()\n"
   ]
  },
  {
   "cell_type": "code",
   "execution_count": null,
   "metadata": {},
   "outputs": [],
   "source": []
  }
 ],
 "metadata": {
  "kernelspec": {
   "display_name": "Python 3",
   "language": "python",
   "name": "python3"
  },
  "language_info": {
   "codemirror_mode": {
    "name": "ipython",
    "version": 3
   },
   "file_extension": ".py",
   "mimetype": "text/x-python",
   "name": "python",
   "nbconvert_exporter": "python",
   "pygments_lexer": "ipython3",
   "version": "3.12.4"
  }
 },
 "nbformat": 4,
 "nbformat_minor": 2
}
