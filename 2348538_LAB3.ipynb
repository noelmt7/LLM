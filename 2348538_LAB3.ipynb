{
 "cells": [
  {
   "cell_type": "code",
   "execution_count": 4,
   "metadata": {},
   "outputs": [],
   "source": [
    "import os\n",
    "from groq import Groq"
   ]
  },
  {
   "cell_type": "code",
   "execution_count": 5,
   "metadata": {},
   "outputs": [],
   "source": [
    "\n",
    "api_key = \"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\"\n",
    "client = Groq(api_key=api_key)\n",
    "\n",
    "\n",
    "def generate_story(client, user_prompt):\n",
    "    story_completion = client.chat.completions.create(\n",
    "        messages=[\n",
    "            {\n",
    "                \"role\": \"user\",\n",
    "                \"content\": f\"Generate a story based on the following prompt: {user_prompt}\",\n",
    "            }\n",
    "        ],\n",
    "        model=\"llama3-8b-8192\", \n",
    "        temperature=1.5, #increased temp for better creativity\n",
    "        max_tokens=2048,\n",
    "        top_p=1,\n",
    "        stop=None,\n",
    "    )\n",
    "    return story_completion.choices[0].message.content\n",
    "\n",
    "\n",
    "def chatbot():\n",
    "    print(\"Welcome to the Story Generator chatbot! Type 'exit' to end the conversation.\")\n",
    "    while True:\n",
    "        user_prompt = input(\"Enter a story prompt: \")\n",
    "        if user_prompt.lower() == 'exit':\n",
    "            print(\"Goodbye!\")\n",
    "            break\n",
    "        story = generate_story(client, user_prompt)\n",
    "        print(\"Story:\", story)\n",
    "\n",
    "\n"
   ]
  },
  {
   "cell_type": "code",
   "execution_count": 7,
   "metadata": {},
   "outputs": [
    {
     "name": "stdout",
     "output_type": "stream",
     "text": [
      "Welcome to the Story Generator chatbot! Type 'exit' to end the conversation.\n",
      "Story: The sun was setting over the small town of Oakdale, casting a warm orange glow over the mundane landscape of deserted streets and playing fields. The Oakdale Elementary School playground, closed for the summer, was a hive of memories for many of the town's kids. Swings creaked in the gentle breeze, and the jungle gym loomed like a skeletal giant, proud of its years of service to generations of children.\n",
      "\n",
      "Jake \"JD\" Davidson, a 12-year-old from Oakdale, sat on the swings, kicking his feet lazily on the ground while lost in thought. He loved coming to this playground, wandering around, spinning on the merry-go-round until his head swirled, and taking risks on the slide. But today, JD had come dressed in his favorite explorer's hat and boots, with nothing but a brown bag full of sandwich and snacks to sustain him.\n",
      "\n",
      "Today, jd was convinced he was onto something. He couldn't quite explain why but after years of playing on these swings and exploring every nook and cranny of the playground, something whispered to him – quite loudly now – about hidden treasures. Children often pointed this out be adventurous films and tales of famous adventurers has sparked their imaginations and hopes, leading people such as Jim Slaugin out discovering various lost treasures over the years. He had become acutely determined to get he'd the treasure below deep, considering everything he wanted his own glorious story now a kind of quest and exploration became even much more to him.\n",
      "\n",
      "Searching intensively around the baseball diamond, where crickets chatted low while grass blew lazily on the nearby emerald expanse. The ground seemed peaceful enough almost that you found yourself getting wrapped around by excitement! He had received hints these potential treasures from strange spots like his older brother did in and around old abandoned farms to many movie roles the cinema in . Anyway...after a patient long survey among grassy territory, spots surrounding huge trees while rocks laid here with roots a few more interesting things are displayed. How he kept his pangs high expectations right became even of each a key lesson.\n",
      "\n",
      "Taking an enormous sigh and must be even quite exhausted by now his own after some and moving slightly up each. Gazing above anything the structure went while he noticed huge hidden under there. Without being too overweighb his attention seized toward stone over there after several yards of exploring those places such buildings will give while...\n",
      "\n",
      "He slowly got by walk trying in...The dirt revealed between swings under this section with what appeared (initially) as cement until small twine gave slightly better texture, indicating yet the way for an access to space there inside, underfoot stone block, these.\n",
      "\n",
      "Following he began entering under, stepping a few feet too big the dusty inside -  (dust still there since the building above had been silent)\n",
      "\n",
      "His eyes did slightly much something exciting due with opening this to almost become his journey further\n",
      "\n",
      "Time passed as JD cowered slowly during daylights hours like much other...\n",
      "\n",
      "How many legends he's considered the tale, for getting treasures might be a dream becoming his fortune with the potential discovery - Now to say whether the discovery a fortune itself is or enough for all individuals, we might not become truly good because treasure sought after...\n",
      "In future updates something's he understands.\n",
      "Story: It was a sunny day in early June, and fifth-grader Jack Harris had just returned to school on summer break. As usual, he couldn't wait to run out and join his friends on the playground. As he burst through the doors, he looked around expectantly for what to do. That's when his eyes landed on it – a strange-looking depression in the unevenly marked territory-lanes boundary.\n",
      "\n",
      "Kids were gathered around it, trying to figure out what it was. Jack, always curious, decided to scout out the mystery. Walking over to the depression, he noticed it was the shape of a small chest and looked like it had been dug into from underneath.\n",
      "\n",
      "One of the playground monitors, Mrs. Thompson, nearby added her concerns: \"This looks like someone has been digging here nonstop! Can you kids take a break and give me a lend a hand cleaning up?\"\n",
      "\n",
      "Jack hesitated a moment but soon brought out the big scissors to carefully cut through the matted grass causing Mrs. Thompson her concern. Unexpectedly, after only a quarter-foot clearance revealed intricate stone patterns and some blue-green glitter-like highlights appeared hidden under layers.\n",
      "Goodbye!\n"
     ]
    }
   ],
   "source": [
    "if __name__ == \"__main__\":\n",
    "    chatbot()"
   ]
  },
  {
   "cell_type": "code",
   "execution_count": null,
   "metadata": {},
   "outputs": [],
   "source": []
  }
 ],
 "metadata": {
  "kernelspec": {
   "display_name": "Python 3",
   "language": "python",
   "name": "python3"
  },
  "language_info": {
   "codemirror_mode": {
    "name": "ipython",
    "version": 3
   },
   "file_extension": ".py",
   "mimetype": "text/x-python",
   "name": "python",
   "nbconvert_exporter": "python",
   "pygments_lexer": "ipython3",
   "version": "3.12.4"
  }
 },
 "nbformat": 4,
 "nbformat_minor": 2
}
